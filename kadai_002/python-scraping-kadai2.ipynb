{
 "cells": [
  {
   "cell_type": "code",
   "execution_count": 1,
   "metadata": {},
   "outputs": [
    {
     "name": "stdout",
     "output_type": "stream",
     "text": [
      "レストラン名:ブラッスリー オザミ 丸の内 評価:4 住所:千代田区丸の内３丁目３−１ 新東京ビル 1F\n",
      "レストラン名:千房 有楽町ビックカメラ支店 評価:3.7 住所:千代田区有楽町１丁目１１−１ ビックカメラ有楽町店 6F\n",
      "レストラン名:Peterーグリル料理ー 評価:4.3 住所:千代田区有楽町１丁目８−１ ペニンシュラ東京 24F\n",
      "レストラン名:帝国ホテル 東京 評価:4.5 住所:千代田区内幸町１丁目１−１\n",
      "レストラン名:大戸屋ごはん処 丸の内新東京ビル店 評価:3.6 住所:千代田区丸の内３丁目３−１ 新東京ビル B1\n",
      "レストラン名:GOSS 評価:3.9 住所:中央区銀座３丁目４−６\n",
      "レストラン名:シャム有楽町 評価:4 住所:千代田区有楽町１丁目６−１ 第二日比谷ビル 10F\n",
      "レストラン名:銀座 あまくさ 総本店 評価:4.1 住所:中央区銀座５丁目４−５ 与板屋ビル 3F\n",
      "レストラン名:全席個室ウメ子の家 有楽町駅前店 評価:3.9 住所:千代田区有楽町２丁目３−５ aune有楽町 7F\n",
      "レストラン名:サイゼリヤ 銀座インズ店 評価:3.8 住所:中央区銀座西3−１ 銀座ｲﾝｽﾞ 2F\n",
      "レストラン名:ジョーズ シャンハイ ニューヨーク 銀座店 評価:3.9 住所:千代田区有楽町２丁目２−３ ヒューリックスクエア東京 Ｂ１Ｆ\n",
      "レストラン名:銀座レカン 評価:4.5 住所:中央区銀座４丁目５−５ ミキモト本店ビル B1F\n",
      "レストラン名:CINQ サンク 評価:4.3 住所:中央区銀座５丁目４−３ 対鶴館 B1\n",
      "レストラン名:有楽町PRONTO(プロント) 評価:3.4 住所:千代田区有楽町２丁目９−１８\n",
      "レストラン名:ニユートーキヨー BEER HALL 評価:3.8 住所:千代田区有楽町１丁目７−１ 有楽町電気ビルヂング南館 地下１階\n",
      "レストラン名:桂園 帝劇ビル店 評価:3.6 住所:国際ビル, B2, ３丁目-１-1 丸の内, 千代田区\n",
      "レストラン名:スペイン料理＆ワイン VIRGO 銀座店 評価:3.9 住所:中央区銀座５丁目６−１３ 西五番街ビル 地下１階\n",
      "レストラン名:PRONTO 有楽町電気ビル店 評価:3.6 住所:千代田区有楽町１丁目７−１ 有楽町電気ビルヂング北館\n",
      "レストラン名:VAMPIRE CAFE 評価:4 住所:中央区銀座６丁目７−６ ラペビル 7F\n",
      "レストラン名:遊食豚彩 いちにいさん 銀座店 評価:4.3 住所:中央区銀座 西3丁目1番地 銀座インズB1\n"
     ]
    }
   ],
   "source": [
    "import requests\n",
    "from pprint import pprint\n",
    "from getpass import getpass\n",
    "\n",
    "# APIキーを入力\n",
    "api_key = getpass(\"APIキーを入力してください:\")\n",
    "\n",
    "# 検索キーワードの入力\n",
    "search_station = input(\"駅名を入力してください:\")\n",
    "\n",
    "# 入力された駅の緯度経度を取得するURL\n",
    "longitude_latitude_url = \"https://maps.googleapis.com/maps/api/geocode/json\"\n",
    "\n",
    "# データを取得\n",
    "response = requests.get(\n",
    "    longitude_latitude_url,\n",
    "    params={\n",
    "        \"key\": api_key, # APIキー\n",
    "        \"address\": search_station, # 駅名\n",
    "    }\n",
    ")\n",
    "\n",
    "# 駅の情報をjsonデータで取得\n",
    "json_data = response.json()\n",
    "\n",
    "# pprint(json_data)\n",
    "\n",
    "# jsonデータから緯度と経度を取得\n",
    "lat = json_data[\"results\"][0][\"geometry\"][\"location\"][\"lat\"] # 緯度\n",
    "lng = json_data[\"results\"][0][\"geometry\"][\"location\"][\"lng\"] # 経度\n",
    "\n",
    "\n",
    "# レストラン情報を取得するURL\n",
    "restaurant_url =\"https://maps.googleapis.com/maps/api/place/nearbysearch/json\"\n",
    "\n",
    "# レストランデータを取得\n",
    "response2 = requests.get(\n",
    "    restaurant_url,\n",
    "    params={\n",
    "        \"key\": api_key, # APIキー\n",
    "        \"location\": f\"{lat}, {lng}\", # 緯度と経度\n",
    "        \"radius\": 500, # 緯度と経度の半径500m以内を検索対象\n",
    "        \"type\": \"restaurant\", # レストラン\n",
    "        \"language\": \"ja\" # 日本語\n",
    "    }\n",
    ")\n",
    "\n",
    "# レストランの情報をjsonデータで取得\n",
    "json2_data = response2.json()\n",
    "\n",
    "# pprint(json2_data)\n",
    "\n",
    "# レストランの情報を出力\n",
    "for result in json2_data[\"results\"]:\n",
    "    restaurant = result[\"name\"]\n",
    "    rating = result[\"rating\"]\n",
    "    # address1 = result[\"\"]\n",
    "    address = result[\"vicinity\"]\n",
    "    # print(f\"{restaurant}, {rating}, {address}\")\n",
    "    print(f\"レストラン名:{restaurant} 評価:{rating} 住所:{address}\")\n",
    "    "
   ]
  },
  {
   "cell_type": "code",
   "execution_count": null,
   "metadata": {},
   "outputs": [],
   "source": []
  }
 ],
 "metadata": {
  "kernelspec": {
   "display_name": "jupyter",
   "language": "python",
   "name": "python3"
  },
  "language_info": {
   "codemirror_mode": {
    "name": "ipython",
    "version": 3
   },
   "file_extension": ".py",
   "mimetype": "text/x-python",
   "name": "python",
   "nbconvert_exporter": "python",
   "pygments_lexer": "ipython3",
   "version": "3.11.9"
  }
 },
 "nbformat": 4,
 "nbformat_minor": 2
}
